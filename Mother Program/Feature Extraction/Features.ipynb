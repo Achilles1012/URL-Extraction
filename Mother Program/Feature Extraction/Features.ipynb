{
 "cells": [
  {
   "cell_type": "markdown",
   "metadata": {},
   "source": [
    "##  URL Feature Extraction  ##"
   ]
  },
  {
   "cell_type": "markdown",
   "metadata": {},
   "source": [
    "**Below are the funtions for extracting each feature from the given URL**"
   ]
  },
  {
   "cell_type": "markdown",
   "metadata": {},
   "source": [
    "Required Librabries"
   ]
  },
  {
   "cell_type": "code",
   "execution_count": 4,
   "metadata": {},
   "outputs": [],
   "source": [
    "from urllib.parse import urlparse,urlencode\n",
    "import urllib.parse\n",
    "import ipaddress\n",
    "import re\n",
    "import whois\n",
    "import re\n",
    "from bs4 import BeautifulSoup\n",
    "import urllib\n",
    "import urllib.request\n",
    "from datetime import datetime\n",
    "import requests\n",
    "\n"
   ]
  },
  {
   "cell_type": "markdown",
   "metadata": {},
   "source": [
    "**1. IP Address in the URL**\n",
    "\n",
    "Checks for the presence of IP address in the URL. URLs may have IP address instead of domain name. If an IP address is used as an alternative of the domain name in the URL, we can be sure that someone is trying to steal personal information with this URL.\n",
    "\n",
    "If the domain part of URL has IP address, the value assigned to this feature is 1 or else 0 .\n",
    "\n"
   ]
  },
  {
   "cell_type": "code",
   "execution_count": 82,
   "metadata": {},
   "outputs": [],
   "source": [
    "def having_ip_address(url):\n",
    "    match = re.search(\n",
    "        '(([01]?\\\\d\\\\d?|2[0-4]\\\\d|25[0-5])\\\\.([01]?\\\\d\\\\d?|2[0-4]\\\\d|25[0-5])\\\\.([01]?\\\\d\\\\d?|2[0-4]\\\\d|25[0-5])\\\\.'\n",
    "        '([01]?\\\\d\\\\d?|2[0-4]\\\\d|25[0-5])\\\\/)|'  # IPv4\n",
    "        '((0x[0-9a-fA-F]{1,2})\\\\.(0x[0-9a-fA-F]{1,2})\\\\.(0x[0-9a-fA-F]{1,2})\\\\.(0x[0-9a-fA-F]{1,2})\\\\/)|'  # IPv4 in hexadecimal\n",
    "        '(?:[a-fA-F0-9]{1,4}:){7}[a-fA-F0-9]{1,4}|'\n",
    "        '[0-9a-fA-F]{7}', url)  # Ipv6\n",
    "    if match:\n",
    "        return 1\n",
    "    else:\n",
    "        return 0\n"
   ]
  },
  {
   "cell_type": "markdown",
   "metadata": {},
   "source": [
    "**2. Depth of URL**\n",
    "\n",
    "Computes the depth of the URL. This feature calculates the number of sub pages in the given url based on the '/'.\n",
    "\n",
    "The value of feature is a numerical based on the URL."
   ]
  },
  {
   "cell_type": "code",
   "execution_count": 83,
   "metadata": {},
   "outputs": [],
   "source": [
    "def getDepth(url):\n",
    "  s = urlparse(url).path.split('/')\n",
    "  depth = 0\n",
    "  for j in range(len(s)):\n",
    "    if len(s[j]) != 0:\n",
    "      depth = depth+1\n",
    "  return depth\n"
   ]
  },
  {
   "cell_type": "markdown",
   "metadata": {},
   "source": [
    "**3. Redirection \"//\" in URL**\n",
    "\n",
    "Checks the presence of \"//\" in the URL. The existence of “//” within the URL path means that the user will be redirected to another website. The location of the “//” in URL is computed. We find that if the URL starts with “HTTP”, that means the “//” should appear in the sixth position. However, if the URL employs “HTTPS” then the “//” should appear in seventh position.\n",
    "\n",
    "If the \"//\" is anywhere in the URL apart from after the protocal, thee value assigned to this feature is 1 or else 0 ."
   ]
  },
  {
   "cell_type": "code",
   "execution_count": 84,
   "metadata": {},
   "outputs": [],
   "source": [
    "def redirection(url):\n",
    "    if '//' in url[7:]:\n",
    "        return 1\n",
    "    else:\n",
    "        return 0"
   ]
  },
  {
   "cell_type": "markdown",
   "metadata": {},
   "source": [
    "**4. \"http/https\" in Domain name**\n",
    "\n",
    "Checks for the presence of \"http/https\" in the domain part of the URL. The phishers may add the “HTTPS” token to the domain part of a URL in order to trick users.\n",
    "\n",
    "If the URL has \"http/https\" in the domain part, the value assigned to this feature is 1 or else 0 ."
   ]
  },
  {
   "cell_type": "code",
   "execution_count": 85,
   "metadata": {},
   "outputs": [],
   "source": [
    "def httpDomain(url):\n",
    "  domain = urlparse(url).netloc\n",
    "  if 'https' in domain:\n",
    "    return 1\n",
    "  else:\n",
    "    return 0\n"
   ]
  },
  {
   "cell_type": "markdown",
   "metadata": {},
   "source": [
    "**5. Using URL Shortening Services “TinyURL”**\n",
    "\n",
    "URL shortening is a method on the “World Wide Web” in which a URL may be made considerably smaller in length and still lead to the required webpage. This is accomplished by means of an “HTTP Redirect” on a domain name that is short, which links to the webpage that has a long URL. \n",
    "\n",
    "If the URL is using Shortening Services, the value assigned to this feature is 1 or else 0."
   ]
  },
  {
   "cell_type": "code",
   "execution_count": 25,
   "metadata": {},
   "outputs": [
    {
     "data": {
      "text/plain": [
       "1"
      ]
     },
     "execution_count": 25,
     "metadata": {},
     "output_type": "execute_result"
    }
   ],
   "source": [
    "\"\"\"\n",
    "shortening_services = r\"bit\\.ly|goo\\.gl|shorte\\.st|go2l\\.ink|x\\.co|ow\\.ly|t\\.co|tinyurl|tr\\.im|is\\.gd|cli\\.gs|\" \\\n",
    "                      r\"yfrog\\.com|migre\\.me|ff\\.im|tiny\\.cc|url4\\.eu|twit\\.ac|su\\.pr|twurl\\.nl|snipurl\\.com|\" \\\n",
    "                      r\"short\\.to|BudURL\\.com|ping\\.fm|post\\.ly|Just\\.as|bkite\\.com|snipr\\.com|fic\\.kr|loopt\\.us|\" \\\n",
    "                      r\"doiop\\.com|short\\.ie|kl\\.am|wp\\.me|rubyurl\\.com|om\\.ly|to\\.ly|bit\\.do|t\\.co|lnkd\\.in|db\\.tt|\" \\\n",
    "                      r\"qr\\.ae|adf\\.ly|goo\\.gl|bitly\\.com|cur\\.lv|tinyurl\\.com|ow\\.ly|bit\\.ly|ity\\.im|q\\.gs|is\\.gd|\" \\\n",
    "                      r\"po\\.st|bc\\.vc|twitthis\\.com|u\\.to|j\\.mp|buzurl\\.com|cutt\\.us|u\\.bb|yourls\\.org|x\\.co|\" \\\n",
    "                      r\"prettylinkpro\\.com|scrnch\\.me|filoops\\.info|vzturl\\.com|qr\\.net|1url\\.com|tweez\\.me|v\\.gd|\" \\\n",
    "                      r\"tr\\.im|link\\.zip\\.net\"\n",
    "\"\"\"\n",
    "shortening_services = (\n",
    "    r\"bit\\.ly|goo\\.gl|shorte\\.st|go2l\\.ink|x\\.co|ow\\.ly|t\\.co|tinyurl|tr\\.im|is\\.gd|cli\\.gs|\"\n",
    "    r\"yfrog\\.com|migre\\.me|ff\\.im|tiny\\.cc|url4\\.eu|twit\\.ac|su\\.pr|twurl\\.nl|snipurl\\.com|\"\n",
    "    r\"short\\.to|BudURL\\.com|ping\\.fm|post\\.ly|Just\\.as|bkite\\.com|snipr\\.com|fic\\.kr|loopt\\.us|\"\n",
    "    r\"doiop\\.com|short\\.ie|kl\\.am|wp\\.me|rubyurl\\.com|om\\.ly|to\\.ly|bit\\.do|t\\.co|lnkd\\.in|db\\.tt|\"\n",
    "    r\"qr\\.ae|adf\\.ly|goo\\.gl|bitly\\.com|cur\\.lv|tinyurl\\.com|ow\\.ly|bit\\.ly|ity\\.im|q\\.gs|is\\.gd|\"\n",
    "    r\"po\\.st|bc\\.vc|twitthis\\.com|u\\.to|j\\.mp|buzurl\\.com|cutt\\.us|u\\.bb|yourls\\.org|x\\.co|\"\n",
    "    r\"prettylinkpro\\.com|scrnch\\.me|filoops\\.info|vzturl\\.com|qr\\.net|1url\\.com|tweez\\.me|v\\.gd|\"\n",
    "    r\"tr\\.im|link\\.zip\\.net|\"\n",
    "    r\"0rz\\.tw|1-url\\.net|126\\.am|1tk\\.us|1un\\.fr|1url\\.com|1url\\.cz|1wb2\\.net|2\\.gp|2\\.ht|\"\n",
    "    r\"2ad\\.in|2doc\\.net|2fear\\.com|2tu\\.us|2ty\\.in|2u\\.xf\\.cz|3ra\\.be|3x\\.si|4i\\.ae|4ks\\.net|\"\n",
    "    r\"4view\\.me|5em\\.cz|5url\\.net|5z8\\.info|6fr\\.ru|6g6\\.eu|7\\.ly|76\\.gd|77\\.ai|7fth\\.cc|\"\n",
    "    r\"7li\\.in|7vd\\.cn|8u\\.cz|944\\.la|98\\.to|L9\\.fr|Lvvk\\.com|To8\\.cc|a0\\.fr|abbr\\.sk|ad-med\\.cz|\"\n",
    "    r\"ad5\\.eu|ad7\\.biz|adb\\.ug|adf\\.ly|adfa\\.st|adfly\\.fr|adli\\.pw|adv\\.li|ajn\\.me|aka\\.gr|\"\n",
    "    r\"alil\\.in|amzn\\.to|any\\.gs|aqva\\.pl|ares\\.tl|asso\\.in|au\\.ms|ayt\\.fr|azali\\.fr|b00\\.fr|\"\n",
    "    r\"b23\\.ru|b54\\.in|baid\\.us|bc\\.vc|beam\\.to|bee4\\.biz|bim\\.im|bit\\.do|bit\\.ly|bitly\\.com|\"\n",
    "    r\"bitw\\.in|blap\\.net|ble\\.pl|blip\\.tv|boi\\.re|bote\\.me|bougn\\.at|br4\\.in|brk\\.to|brzu\\.net|\"\n",
    "    r\"bul\\.lu|bxl\\.me|bzh\\.me|cachor\\.ro|captur\\.in|cashfly\\.com|cbs\\.so|cbug\\.cc|cc\\.cc|ccj\\.im|\"\n",
    "    r\"cf\\.ly|cf2\\.me|cf6\\.co|chilp\\.it|cjb\\.net|cli\\.gs|clikk\\.in|clk\\.im|cn86\\.org|couic\\.fr|\"\n",
    "    r\"cr\\.tl|cudder\\.it|cur\\.lv|curl\\.im|curte\\.me|cut\\.pe|cut\\.sk|cutt\\.eu|cutt\\.us|cutu\\.me|\"\n",
    "    r\"cybr\\.fr|cyonix\\.to|d75\\.eu|daa\\.pl|dai\\.ly|decenturl\\.com|dd\\.ma|ddp\\.net|dft\\.ba|\"\n",
    "    r\"digbig\\.com|doiop\\.com|dolp\\.cc|dopice\\.sk|droid\\.ws|dv\\.gd|dyo\\.gs|e37\\.eu|easyurl\\.net|\"\n",
    "    r\"ecra\\.se|ely\\.re|encurtador\\.com\\.br|erax\\.cz|erw\\.cz|esy\\.es|ex9\\.co|ezurl\\.cc|fff\\.re|\"\n",
    "    r\"fff\\.to|fff\\.wf|filz\\.fr|fnk\\.es|foe\\.hn|folu\\.me|freze\\.it|fur\\.ly|fwdurl\\.net|g00\\.me|\"\n",
    "    r\"gca\\.sh|gg\\.gg|goo\\.gl|goo\\.lu|grem\\.io|guiama\\.is|hadej\\.co|hide\\.my|hjkl\\.fr|hops\\.me|\"\n",
    "    r\"href\\.li|ht\\.ly|i-2\\.co|i99\\.cz|icit\\.fr|ick\\.li|icks\\.ro|iiiii\\.in|iky\\.fr|ilix\\.in|\"\n",
    "    r\"info\\.ms|is\\.gd|isra\\.li|itm\\.im|ity\\.im|ix\\.sk|j\\.gs|j\\.mp|jdem\\.cz|jieb\\.be|jp22\\.net|\"\n",
    "    r\"jqw\\.de|kask\\.us|kd2\\.org|kfd\\.pl|korta\\.nu|kr3w\\.de|krat\\.si|kratsi\\.cz|krod\\.cz|kuc\\.cz|\"\n",
    "    r\"kxb\\.me|l-k\\.be|lc-s\\.co|lc\\.cx|lcut\\.in|letop10\\.|libero\\.it|lick\\.my|lien\\.li|lien\\.pl|\"\n",
    "    r\"lin\\.io|linkn\\.co|linkbucks\\.com|llu\\.ch|lnk\\.co|lnk\\.ly|lnk\\.sk|lnks\\.fr|lnky\\.fr|lnp\\.sn|\"\n",
    "    r\"lp25\\.fr|m1p\\.fr|m3mi\\.com|make\\.my|mcaf\\.ee|mdl29\\.net|mic\\.fr|migre\\.me|minu\\.me|moour\"\n",
    ")\n",
    "\n",
    "def tinyURL(url):\n",
    "    match = re.search(shortening_services, url)\n",
    "    if match:\n",
    "        return 1\n",
    "    else:\n",
    "        return 0\n"
   ]
  },
  {
   "cell_type": "markdown",
   "metadata": {},
   "source": [
    "**6. DNS Record**\n",
    "\n",
    "For phishing websites, either the claimed identity is not recognized by the WHOIS database or no records founded for the hostname. \n",
    "If the DNS record is empty or not found then, the value assigned to this feature is 1 or else 0 ."
   ]
  },
  {
   "cell_type": "code",
   "execution_count": 87,
   "metadata": {},
   "outputs": [],
   "source": [
    "def hasDNSRecord(domain):\n",
    "    try:\n",
    "        whois_info = whois.whois(domain)\n",
    "        if whois_info:\n",
    "            return 0  \n",
    "        else:\n",
    "            return 1  \n",
    "    except whois.parser.PywhoisError:\n",
    "        return 1  # (Error occurred or no record found)\n",
    "\n"
   ]
  },
  {
   "cell_type": "markdown",
   "metadata": {},
   "source": [
    "**7. Age of Domain**\n",
    "\n",
    "This feature can be extracted from WHOIS database. Most phishing websites live for a short period of time. The minimum age of the legitimate domain is considered to be 1 year for this project. Age here is nothing but different between creation and expiration time.\n",
    "\n",
    "If age of domain < 365 days, the value of this feature is 1 else 0."
   ]
  },
  {
   "cell_type": "code",
   "execution_count": 97,
   "metadata": {},
   "outputs": [
    {
     "data": {
      "text/plain": [
       "0"
      ]
     },
     "execution_count": 97,
     "metadata": {},
     "output_type": "execute_result"
    }
   ],
   "source": [
    "def domainAge(domain_name):\n",
    "    try:\n",
    "        # Get WHOIS information for the domain\n",
    "        domain_info = whois.whois(domain_name)\n",
    "\n",
    "        # Extract creation and expiration dates\n",
    "        creation_date = domain_info.creation_date\n",
    "        expiration_date = domain_info.expiration_date\n",
    "\n",
    "        # Check if creation_date and expiration_date are valid datetime objects\n",
    "        if (isinstance(creation_date, list)):\n",
    "            creation_date = creation_date[0]\n",
    "        if (isinstance(expiration_date, list)):\n",
    "            expiration_date = expiration_date[0]\n",
    "\n",
    "        # Calculate domain age\n",
    "        current_date = datetime.now()\n",
    "        age_of_domain = (current_date - creation_date).days\n",
    "\n",
    "        # Determine if the domain age is less than 1 year\n",
    "        if age_of_domain < 365:  # Less than 1 year\n",
    "            return 1  \n",
    "        else:\n",
    "            return 0  \n",
    "\n",
    "    except Exception as e:\n",
    "        print(\"Error:\", e)\n",
    "        return 1 \n",
    "domainAge(\"google.com\") \n",
    "    \n"
   ]
  },
  {
   "cell_type": "markdown",
   "metadata": {},
   "source": []
  },
  {
   "cell_type": "markdown",
   "metadata": {},
   "source": [
    "**8. IFrame Redirection**\n",
    "\n",
    "Phishing by iframe is a malicious technique that inserts a fake web page into a legitimate one, to trick users and steal their personal or financial information.Phishers can make use of the “iframe” tag and make it invisible i.e. without frame borders. In this regard, phishers make use of the “frameBorder” attribute which causes the browser to render a visual delineation. \n"
   ]
  },
  {
   "cell_type": "code",
   "execution_count": null,
   "metadata": {},
   "outputs": [],
   "source": []
  },
  {
   "cell_type": "markdown",
   "metadata": {},
   "source": [
    "**9. Website Forwarding**\n",
    "\n",
    "The fine line that distinguishes phishing websites from legitimate ones is how many times a website has been redirected. In our dataset, we find that legitimate websites have been redirected one time max. On the other hand, phishing websites containing this feature have been redirected at least 4 times. \n",
    "\n",
    "\n"
   ]
  },
  {
   "cell_type": "code",
   "execution_count": null,
   "metadata": {},
   "outputs": [],
   "source": []
  },
  {
   "cell_type": "markdown",
   "metadata": {},
   "source": [
    "**10. Length of URL**\n",
    "\n",
    "Computes the length of the URL. Phishers can use long URL to hide the doubtful part in the address bar."
   ]
  },
  {
   "cell_type": "code",
   "execution_count": 89,
   "metadata": {},
   "outputs": [],
   "source": [
    "def getLength(url):          \n",
    "  return len(url)"
   ]
  },
  {
   "cell_type": "markdown",
   "metadata": {},
   "source": [
    "**11. Function to count numeric characters**\n"
   ]
  },
  {
   "cell_type": "code",
   "execution_count": 90,
   "metadata": {},
   "outputs": [],
   "source": [
    "def NumericCharCount(str):\n",
    "    # Initializing count variable to 0\n",
    "    count = 0\n",
    "\n",
    "    # Creating a set of numeric characters\n",
    "    numeric = set(\"0123456789\")\n",
    "\n",
    "    # Loop to traverse the num\n",
    "    # in the given string\n",
    "    for num in str:\n",
    "\n",
    "        # If numeric character is present\n",
    "        # in set numeric\n",
    "        if num in numeric:\n",
    "            count = count + 1\n",
    "\n",
    "    return count"
   ]
  },
  {
   "cell_type": "markdown",
   "metadata": {},
   "source": [
    "**12. Function to count english letters**"
   ]
  },
  {
   "cell_type": "code",
   "execution_count": 91,
   "metadata": {},
   "outputs": [],
   "source": [
    "def EnglishLetterCount(str):\n",
    "    # Initializing count variable to 0\n",
    "    count = 0\n",
    "\n",
    "    # Creating a set of english letters\n",
    "    engletter = set(\"abcdefghijklmnopqrstuvwxyzABCDEFGHIJKLMNOPQRSTUVWXYZ\")\n",
    "\n",
    "    # Loop to traverse the num\n",
    "    # in the given string\n",
    "    for num in str:\n",
    "\n",
    "        # If english letter is present\n",
    "        # in set engletter\n",
    "        if num in engletter:\n",
    "            count = count + 1\n",
    "\n",
    "    return count"
   ]
  },
  {
   "cell_type": "markdown",
   "metadata": {},
   "source": [
    "**13.Function to count Special Characters**"
   ]
  },
  {
   "cell_type": "code",
   "execution_count": 1,
   "metadata": {},
   "outputs": [
    {
     "data": {
      "text/plain": [
       "8"
      ]
     },
     "execution_count": 1,
     "metadata": {},
     "output_type": "execute_result"
    }
   ],
   "source": [
    "def SpecialCharCount(str):\n",
    "    # Initializing count variable to 0\n",
    "    count = 0\n",
    "\n",
    "    # Creating a set of special characters\n",
    "    specialchar = set(\"!#$%&'()*+,-./:;<=>?@[\\]^_`{|}~\\\"\")\n",
    "\n",
    "    # Loop to traverse the num\n",
    "    # in the given string\n",
    "    for num in str:\n",
    "\n",
    "        # If special character is present\n",
    "        # in set specialchar\n",
    "        if num in specialchar:\n",
    "            count = count + 1\n",
    "\n",
    "    return count\n"
   ]
  },
  {
   "cell_type": "markdown",
   "metadata": {},
   "source": [
    "**14.Function to calculate ratio of digits to alphabets**"
   ]
  },
  {
   "cell_type": "code",
   "execution_count": 93,
   "metadata": {},
   "outputs": [],
   "source": [
    "def DigitAlphabetRatio(str):\n",
    "\n",
    "    digit = 0\n",
    "    numeric = set(\"0123456789\")\n",
    "\n",
    "    for num in str:\n",
    "        if num in numeric:\n",
    "            digit = digit + 1\n",
    "\n",
    "    alphabet = 0\n",
    "    engletter = set(\"abcdefghijklmnopqrstuvwxyzABCDEFGHIJKLMNOPQRSTUVWXYZ\")\n",
    "    flag = -1\n",
    "    for num in str:\n",
    "        if num in engletter:\n",
    "            alphabet = alphabet + 1\n",
    "\n",
    "    if alphabet != 0:\n",
    "        ratio = digit/alphabet\n",
    "        return ratio\n",
    "\n",
    "    else:\n",
    "        return flag"
   ]
  },
  {
   "cell_type": "markdown",
   "metadata": {},
   "source": []
  },
  {
   "cell_type": "code",
   "execution_count": 10,
   "metadata": {},
   "outputs": [],
   "source": [
    "from urllib import parse\n",
    "from datetime import datetime\n",
    "from bs4 import BeautifulSoup\n",
    "import re\n",
    "import ipaddress\n",
    "import requests"
   ]
  },
  {
   "cell_type": "markdown",
   "metadata": {},
   "source": [
    "  "
   ]
  },
  {
   "cell_type": "code",
   "execution_count": 14,
   "metadata": {},
   "outputs": [
    {
     "data": {
      "text/plain": [
       "{'url': 'xlms.rkmvu.ac.in/login/index.php',\n",
       " 'protocol': 'https',\n",
       " 'host': 'xlms.rkmvu.ac.in',\n",
       " 'path': '/login/index.php',\n",
       " 'params': '',\n",
       " 'query': '',\n",
       " 'fragment': ''}"
      ]
     },
     "execution_count": 14,
     "metadata": {},
     "output_type": "execute_result"
    }
   ],
   "source": [
    "def start_url(url):\n",
    "    \"\"\"Split URL into: protocol, host, path, params, query and fragment.\"\"\"\n",
    "    if not parse.urlparse(url.strip()).scheme:\n",
    "        url = 'http://' + url\n",
    "    protocol, host, path, params, query, fragment = parse.urlparse(url.strip())\n",
    "\n",
    "    result = {\n",
    "        'url': host + path + params + query + fragment,\n",
    "        'protocol': protocol,\n",
    "        'host': host,\n",
    "        'path': path,\n",
    "        'params': params,\n",
    "        'query': query,\n",
    "        'fragment': fragment\n",
    "    }\n",
    "    return result\n",
    "start_url(\"https://xlms.rkmvu.ac.in/login/index.php\")"
   ]
  },
  {
   "cell_type": "code",
   "execution_count": 18,
   "metadata": {},
   "outputs": [
    {
     "data": {
      "text/plain": [
       "True"
      ]
     },
     "execution_count": 18,
     "metadata": {},
     "output_type": "execute_result"
    }
   ],
   "source": [
    "def valid_email(text):\n",
    "    \"\"\"Return if there is an email in the text.\"\"\"\n",
    "    if re.findall(r'[\\w\\.-]+@[\\w\\.-]+', text):\n",
    "        return True\n",
    "    else:\n",
    "        return False"
   ]
  },
  {
   "cell_type": "code",
   "execution_count": 26,
   "metadata": {},
   "outputs": [
    {
     "data": {
      "text/plain": [
       "'c'"
      ]
     },
     "execution_count": 26,
     "metadata": {},
     "output_type": "execute_result"
    }
   ],
   "source": [
    "def extract_extension(text):\n",
    "    extensions = [\n",
    "        \".3dm\", \".3ds\", \".3g2\", \".3gp\", \".7z\", \".accdb\", \".ai\", \".aif\", \".apk\", \".app\", \".asf\", \".asp\", \".aspx\", \".avi\", \".bak\",\n",
    "        \".bat\", \".bin\", \".bmp\", \".c\", \".cab\", \".cbr\", \".cer\", \".cfg\", \".cfm\", \".cgi\", \".class\", \".com\", \".cpl\", \".cpp\", \".crdownload\",\n",
    "        \".crx\", \".cs\", \".csr\", \".css\", \".csv\", \".cue\", \".cur\", \".dat\", \".db\", \".dbf\", \".dds\", \".deb\", \".dem\", \".deskthemepack\",\n",
    "        \".dll\", \".dmg\", \".dmp\", \".doc\", \".docx\", \".drv\", \".dtd\", \".dwg\", \".dxf\", \".eps\", \".exe\", \".fla\", \".flv\", \".fnt\", \".fon\",\n",
    "        \".gadget\", \".gam\", \".ged\", \".gif\", \".gpx\", \".gz\", \".h\", \".hqx\", \".htm\", \".html\", \".icns\", \".ico\", \".ics\", \".iff\", \".indd\",\n",
    "        \".ini\", \".iso\", \".jar\", \".java\", \".jpg\", \".js\", \".jsp\", \".key\", \".keychain\", \".kml\", \".kmz\", \".lnk\", \".log\", \".lua\", \".m\",\n",
    "        \".m3u\", \".m4a\", \".m4v\", \".max\", \".mdb\", \".mdf\", \".mid\", \".mim\", \".mov\", \".mp3\", \".mp4\", \".mpa\", \".mpg\", \".msg\", \".msi\",\n",
    "        \".nes\", \".obj\", \".odt\", \".otf\", \".pages\", \".part\", \".pct\", \".pdb\", \".pdf\", \".php\", \".pkg\", \".pl\", \".plugin\", \".png\",\n",
    "        \".pps\", \".ppt\", \".pptx\", \".prf\", \".ps\", \".psd\", \".pspimage\", \".py\", \".rar\", \".rm\", \".rom\", \".rpm\", \".rss\", \".rtf\", \".sav\",\n",
    "        \".sdf\", \".sh\", \".sitx\", \".sln\", \".sql\", \".srt\", \".svg\", \".swf\", \".swift\", \".sys\", \".tar\", \".tar.gz\", \".tax2016\", \".tex\",\n",
    "        \".tga\", \".thm\", \".tif\", \".tiff\", \".tmp\", \".toast\", \".torrent\", \".ttf\", \".txt\", \".uue\", \".vb\", \".vcd\", \".vcf\", \".vcxproj\",\n",
    "        \".vob\", \".wav\", \".wma\", \".wmv\", \".wpd\", \".wps\", \".wsf\", \".xcodeproj\", \".xhtml\", \".xlr\", \".xls\", \".xlsx\", \".xml\", \".yuv\",\n",
    "        \".zip\", \".zipx\"\n",
    "    ]\n",
    "    \n",
    "    for extension in extensions:\n",
    "        if extension in text.lower():\n",
    "            return extension.strip(\".\")\n",
    "            \n",
    "    return '?'\n",
    "extract_extension(\"google.com\")"
   ]
  },
  {
   "cell_type": "code",
   "execution_count": 40,
   "metadata": {},
   "outputs": [
    {
     "data": {
      "text/plain": [
       "1"
      ]
     },
     "execution_count": 40,
     "metadata": {},
     "output_type": "execute_result"
    }
   ],
   "source": [
    "def count_tld(text):\n",
    "    \"\"\"Return amount of Top-Level Domains (TLD) present in the URL.\"\"\"\n",
    "    file_path = 'C:\\\\Users\\\\Achilles2000\\\\Desktop\\\\Data\\\\Main Files\\\\Feature Extraction\\\\Programs\\\\Github\\\\url-feature-extractor\\\\lib\\\\files\\\\tlds.txt'\n",
    "    file = open(file_path, 'r')\n",
    "    count = 0\n",
    "    pattern = re.compile(\"[a-zA-Z0-9.]\")\n",
    "    for line in file:\n",
    "        i = (text.lower().strip()).find(line.strip())\n",
    "        while i > -1:\n",
    "            if ((i + len(line) - 1) >= len(text)) or not pattern.match(text[i + len(line) - 1]):\n",
    "                count += 1\n",
    "            i = text.find(line.strip(), i + 1)\n",
    "    file.close()\n",
    "    return count\n",
    "count_tld(\"https://www.example.com/foo/bar/index.html\")"
   ]
  },
  {
   "cell_type": "code",
   "execution_count": 42,
   "metadata": {},
   "outputs": [
    {
     "data": {
      "text/plain": [
       "True"
      ]
     },
     "execution_count": 42,
     "metadata": {},
     "output_type": "execute_result"
    }
   ],
   "source": [
    "def check_tld(text):\n",
    "    \"\"\"Check for presence of Top-Level Domains (TLD).\"\"\"\n",
    "    file_path = 'C:\\\\Users\\\\Achilles2000\\\\Desktop\\\\Data\\\\Main Files\\\\Feature Extraction\\\\Programs\\\\Github\\\\url-feature-extractor\\\\lib\\\\files\\\\tlds.txt'\n",
    "    file = open(file_path, 'r')\n",
    "    pattern = re.compile(\"[a-zA-Z0-9.]\")\n",
    "    for line in file:\n",
    "        i = (text.lower().strip()).find(line.strip())\n",
    "        while i > -1:\n",
    "            if ((i + len(line) - 1) >= len(text)) or not pattern.match(text[i + len(line) - 1]):\n",
    "                file.close()\n",
    "                return True\n",
    "            i = text.find(line.strip(), i + 1)\n",
    "    file.close()\n",
    "    return False\n",
    "check_tld(\"https://www.example.com/foo/bar/index.html\")"
   ]
  },
  {
   "cell_type": "code",
   "execution_count": 2,
   "metadata": {},
   "outputs": [
    {
     "data": {
      "text/plain": [
       "31"
      ]
     },
     "execution_count": 2,
     "metadata": {},
     "output_type": "execute_result"
    }
   ],
   "source": [
    "def EnglishLetterCount(str):\n",
    "    count = 0\n",
    "    engletter = set(\"abcdefghijklmnopqrstuvwxyzABCDEFGHIJKLMNOPQRSTUVWXYZ\")\n",
    "    for num in str:\n",
    "        if num in engletter:\n",
    "            count = count + 1\n",
    "\n",
    "    return count\n",
    "EnglishLetterCount(\"https://chat.openai.com/c/7ba727a2-a17f-4e30-bbca-609ba3071561\")"
   ]
  }
 ],
 "metadata": {
  "kernelspec": {
   "display_name": "Python 3",
   "language": "python",
   "name": "python3"
  },
  "language_info": {
   "codemirror_mode": {
    "name": "ipython",
    "version": 3
   },
   "file_extension": ".py",
   "mimetype": "text/x-python",
   "name": "python",
   "nbconvert_exporter": "python",
   "pygments_lexer": "ipython3",
   "version": "3.11.8"
  }
 },
 "nbformat": 4,
 "nbformat_minor": 2
}
