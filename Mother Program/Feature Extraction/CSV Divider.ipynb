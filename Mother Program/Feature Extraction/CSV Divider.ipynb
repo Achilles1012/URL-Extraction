{
 "cells": [
  {
   "cell_type": "code",
   "execution_count": 15,
   "metadata": {},
   "outputs": [
    {
     "name": "stdout",
     "output_type": "stream",
     "text": [
      "Loaded DataFrame head:\n",
      "   2                        https://blog.sockpuppet.us/\n",
      "0  2                  https://blog.apiki.com/seguranca/\n",
      "1  1  http://autoecole-lauriston.com/a/T0RVd056QXlNe...\n",
      "2  1  http://chinpay.site/index.html?hgcFSE@E$Z*DFcG...\n",
      "3  2  http://www.firstfivenebraska.org/blog/article/...\n",
      "4  2                       http://streetoutlawsokc.com/\n",
      "Chunk 1 saved to C:\\Users\\Achilles2000\\Desktop\\Data\\Main Files\\New Data\\Chunks\\chunk_1.csv\n",
      "Chunk 2 saved to C:\\Users\\Achilles2000\\Desktop\\Data\\Main Files\\New Data\\Chunks\\chunk_2.csv\n",
      "Chunk 3 saved to C:\\Users\\Achilles2000\\Desktop\\Data\\Main Files\\New Data\\Chunks\\chunk_3.csv\n",
      "Chunk 4 saved to C:\\Users\\Achilles2000\\Desktop\\Data\\Main Files\\New Data\\Chunks\\chunk_4.csv\n",
      "Chunk 5 saved to C:\\Users\\Achilles2000\\Desktop\\Data\\Main Files\\New Data\\Chunks\\chunk_5.csv\n",
      "Chunk 6 saved to C:\\Users\\Achilles2000\\Desktop\\Data\\Main Files\\New Data\\Chunks\\chunk_6.csv\n",
      "Chunk 7 saved to C:\\Users\\Achilles2000\\Desktop\\Data\\Main Files\\New Data\\Chunks\\chunk_7.csv\n",
      "Chunk 8 saved to C:\\Users\\Achilles2000\\Desktop\\Data\\Main Files\\New Data\\Chunks\\chunk_8.csv\n",
      "Chunk 9 saved to C:\\Users\\Achilles2000\\Desktop\\Data\\Main Files\\New Data\\Chunks\\chunk_9.csv\n",
      "Chunk 10 saved to C:\\Users\\Achilles2000\\Desktop\\Data\\Main Files\\New Data\\Chunks\\chunk_10.csv\n",
      "Chunk 11 saved to C:\\Users\\Achilles2000\\Desktop\\Data\\Main Files\\New Data\\Chunks\\chunk_11.csv\n",
      "Chunk 12 saved to C:\\Users\\Achilles2000\\Desktop\\Data\\Main Files\\New Data\\Chunks\\chunk_12.csv\n",
      "Chunk 13 saved to C:\\Users\\Achilles2000\\Desktop\\Data\\Main Files\\New Data\\Chunks\\chunk_13.csv\n",
      "Files in 'Chunks' folder:\n",
      "['chunk_1.csv', 'chunk_10.csv', 'chunk_11.csv', 'chunk_12.csv', 'chunk_13.csv', 'chunk_2.csv', 'chunk_3.csv', 'chunk_4.csv', 'chunk_5.csv', 'chunk_6.csv', 'chunk_7.csv', 'chunk_8.csv', 'chunk_9.csv']\n"
     ]
    }
   ],
   "source": [
    "import pandas as pd\n",
    "import os\n",
    "\n",
    "# Input file location and name\n",
    "input_file_path = r'C:\\Users\\Achilles2000\\Desktop\\Data\\Main Files\\New Data\\train.csv'\n",
    "\n",
    "# Load the original CSV file, skipping lines with too many fields\n",
    "df = pd.read_csv(input_file_path, on_bad_lines='skip')\n",
    "\n",
    "# Check if data is loaded correctly\n",
    "print(\"Loaded DataFrame head:\")\n",
    "print(df.head())\n",
    "\n",
    "# Split the DataFrame into chunks of 50,000 rows\n",
    "chunk_size = 50000\n",
    "chunks = [df[i:i+chunk_size] for i in range(0, len(df), chunk_size)]\n",
    "\n",
    "# Create a directory to store chunked CSV files if it doesn't exist\n",
    "output_directory = os.path.join(os.path.dirname(input_file_path), 'Chunks')\n",
    "os.makedirs(output_directory, exist_ok=True)\n",
    "\n",
    "# Save each chunk into separate CSV files\n",
    "for i, chunk in enumerate(chunks):\n",
    "    chunk_csv_path = os.path.join(output_directory, f'chunk_{i+1}.csv')  # Naming each chunked CSV file\n",
    "    chunk.to_csv(chunk_csv_path, index=False)\n",
    "    print(f\"Chunk {i+1} saved to {chunk_csv_path}\")\n",
    "\n",
    "# Check if the 'Chunks' folder contains any files\n",
    "print(\"Files in 'Chunks' folder:\")\n",
    "print(os.listdir(output_directory))\n"
   ]
  },
  {
   "cell_type": "code",
   "execution_count": 16,
   "metadata": {},
   "outputs": [
    {
     "name": "stdout",
     "output_type": "stream",
     "text": [
      "Loaded DataFrame head:\n",
      "   2                       http://minsotc.alania.gov.ru\n",
      "0  2                       http://www.freejavaguide.com\n",
      "1  1  http://yeneliswa.co.za/moods/bankofamerica/7dd...\n",
      "2  2  https://victordahdalehfoundation.com/programme...\n",
      "3  2          http://camphhsi.com/product/list_947.html\n",
      "4  2                      https://www.arkosis.com/about\n",
      "Chunk 1 saved to C:\\Users\\Achilles2000\\Desktop\\Data\\Main Files\\New Data\\chunk_test\\chunk_test_1.csv\n",
      "Chunk 2 saved to C:\\Users\\Achilles2000\\Desktop\\Data\\Main Files\\New Data\\chunk_test\\chunk_test_2.csv\n",
      "Chunk 3 saved to C:\\Users\\Achilles2000\\Desktop\\Data\\Main Files\\New Data\\chunk_test\\chunk_test_3.csv\n",
      "Chunk 4 saved to C:\\Users\\Achilles2000\\Desktop\\Data\\Main Files\\New Data\\chunk_test\\chunk_test_4.csv\n",
      "Files in 'chunk_test' folder:\n",
      "['chunk_test_1.csv', 'chunk_test_2.csv', 'chunk_test_3.csv', 'chunk_test_4.csv']\n"
     ]
    }
   ],
   "source": [
    "import pandas as pd\n",
    "import os\n",
    "\n",
    "# Input file location and name\n",
    "input_file_path = r'C:\\Users\\Achilles2000\\Desktop\\Data\\Main Files\\New Data\\test.csv'\n",
    "\n",
    "# Load the original CSV file, skipping lines with too many fields\n",
    "df = pd.read_csv(input_file_path, on_bad_lines='skip')\n",
    "\n",
    "# Check if data is loaded correctly\n",
    "print(\"Loaded DataFrame head:\")\n",
    "print(df.head())\n",
    "\n",
    "# Split the DataFrame into chunks of 50,000 rows\n",
    "chunk_size = 50000\n",
    "chunks = [df[i:i+chunk_size] for i in range(0, len(df), chunk_size)]\n",
    "\n",
    "# Create a directory to store chunked CSV files if it doesn't exist\n",
    "output_directory = os.path.join(os.path.dirname(input_file_path), 'chunk_test')\n",
    "os.makedirs(output_directory, exist_ok=True)\n",
    "\n",
    "# Save each chunk into separate CSV files\n",
    "for i, chunk in enumerate(chunks):\n",
    "    chunk_csv_path = os.path.join(output_directory, f'chunk_test_{i+1}.csv')  # Naming each chunked CSV file\n",
    "    chunk.to_csv(chunk_csv_path, index=False)\n",
    "    print(f\"Chunk {i+1} saved to {chunk_csv_path}\")\n",
    "\n",
    "# Check if the 'chunk_test' folder contains any files\n",
    "print(\"Files in 'chunk_test' folder:\")\n",
    "print(os.listdir(output_directory))\n"
   ]
  }
 ],
 "metadata": {
  "kernelspec": {
   "display_name": "Python 3",
   "language": "python",
   "name": "python3"
  },
  "language_info": {
   "codemirror_mode": {
    "name": "ipython",
    "version": 3
   },
   "file_extension": ".py",
   "mimetype": "text/x-python",
   "name": "python",
   "nbconvert_exporter": "python",
   "pygments_lexer": "ipython3",
   "version": "3.11.9"
  }
 },
 "nbformat": 4,
 "nbformat_minor": 2
}
